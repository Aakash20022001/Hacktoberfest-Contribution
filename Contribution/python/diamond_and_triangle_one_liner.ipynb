{
  "nbformat": 4,
  "nbformat_minor": 0,
  "metadata": {
    "colab": {
      "name": "diamond and triangle one liner.ipynb",
      "provenance": []
    },
    "kernelspec": {
      "name": "python3",
      "display_name": "Python 3"
    },
    "language_info": {
      "name": "python"
    }
  },
  "cells": [
    {
      "cell_type": "code",
      "metadata": {
        "colab": {
          "base_uri": "https://localhost:8080/"
        },
        "id": "fusaooXKSpvL",
        "outputId": "93859907-338a-4543-fe5b-96b4a11f4b97"
      },
      "source": [
        "print('\\n'.join([('/'+(('_'if i==8 else ' ')*i )+'\\\\').center(10) for i in range(0,10,2)]))"
      ],
      "execution_count": 13,
      "outputs": [
        {
          "output_type": "stream",
          "name": "stdout",
          "text": [
            "    /\\    \n",
            "   /  \\   \n",
            "  /    \\  \n",
            " /      \\ \n",
            "/________\\\n"
          ]
        }
      ]
    },
    {
      "cell_type": "code",
      "metadata": {
        "colab": {
          "base_uri": "https://localhost:8080/"
        },
        "id": "1tYgtw9dVxxv",
        "outputId": "cdd5e865-3189-4db5-803c-fa8fb57e9b44"
      },
      "source": [
        "print('\\n'.join([('/'+(' '*i )+'\\\\').center(10) for i in range(0,10,2)]+[('\\\\'+(' '*i )+'/').center(10) for i in range(8,-1,-2)]))\n"
      ],
      "execution_count": 19,
      "outputs": [
        {
          "output_type": "stream",
          "name": "stdout",
          "text": [
            "    /\\    \n",
            "   /  \\   \n",
            "  /    \\  \n",
            " /      \\ \n",
            "/        \\\n",
            "\\        /\n",
            " \\      / \n",
            "  \\    /  \n",
            "   \\  /   \n",
            "    \\/    \n"
          ]
        }
      ]
    }
  ]
}